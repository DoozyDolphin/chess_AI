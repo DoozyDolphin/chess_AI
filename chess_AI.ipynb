{
  "cells": [
    {
      "cell_type": "markdown",
      "metadata": {
        "id": "view-in-github",
        "colab_type": "text"
      },
      "source": [
        "<a href=\"https://colab.research.google.com/github/DoozyDolphin/chess_AI/blob/main/chess_AI.ipynb\" target=\"_parent\"><img src=\"https://colab.research.google.com/assets/colab-badge.svg\" alt=\"Open In Colab\"/></a>"
      ]
    },
    {
      "cell_type": "code",
      "metadata": {
        "id": "dsacAJ-5gkN0"
      },
      "source": [
        "!pip3 install python-chess\n",
        "!pip3 install cairosvg\n"
      ],
      "execution_count": null,
      "outputs": []
    },
    {
      "cell_type": "code",
      "metadata": {
        "id": "txyBSOdG22q8"
      },
      "source": [
        "!pip3 install stockfish\n",
        "!apt-get install stockfish"
      ],
      "execution_count": null,
      "outputs": []
    },
    {
      "cell_type": "code",
      "source": [
        "!which stockfish"
      ],
      "metadata": {
        "id": "oAPYnFbYsVhZ"
      },
      "execution_count": null,
      "outputs": []
    },
    {
      "cell_type": "code",
      "source": [
        "!find / -name stockfish"
      ],
      "metadata": {
        "id": "S8G8xJiJ4Mmn"
      },
      "execution_count": null,
      "outputs": []
    },
    {
      "cell_type": "code",
      "execution_count": null,
      "metadata": {
        "id": "QauvWk2MkddY"
      },
      "outputs": [],
      "source": [
        "import chess\n",
        "import chess.engine\n",
        "import random\n",
        "import numpy as np\n",
        "from tqdm import tqdm\n",
        "\n",
        "\n",
        "# create board\n",
        "def random_board(max_depth=200):\n",
        "  board = chess.Board()\n",
        "  depth = random.randrange(0, max_depth)\n",
        "\n",
        "  for _ in range(depth):\n",
        "    all_moves = list(board.legal_moves)\n",
        "    random_move = random.choice(all_moves)\n",
        "    board.push(random_move)\n",
        "    if board.is_game_over():\n",
        "      break\n",
        "\n",
        "  return board\n",
        "\n",
        "\n",
        "# track score, fucntuon score\n",
        "def stockfish(board, depth):\n",
        "  with chess.engine.SimpleEngine.popen_uci('/usr/games/stockfish') as sf:\n",
        "    result = sf.analyse(board, chess.engine.Limit(depth=depth))\n",
        "    score = result['score'].white().score()\n",
        "    return score"
      ]
    },
    {
      "cell_type": "code",
      "execution_count": null,
      "metadata": {
        "id": "ULOEWyyfYqtq"
      },
      "outputs": [],
      "source": [
        "board = random_board()\n",
        "board"
      ]
    },
    {
      "cell_type": "code",
      "execution_count": null,
      "metadata": {
        "id": "QtZy4cR8ZMhq"
      },
      "outputs": [],
      "source": [
        "from stockfish import Stockfish\n",
        "\n",
        "# Initialize Stockfish engine\n",
        "stockfish = Stockfish(\"/usr/games/stockfish\")\n",
        "\n",
        "# Set the position\n",
        "fen_position = \"rnbqkbnr/pppppppp/8/8/8/8/PPPPPPPP/RNBQKBNR w KQkq - 0 1\"\n",
        "stockfish.set_fen_position(fen_position)\n",
        "\n",
        "# Analyze the position\n",
        "analysis = stockfish.get_best_move()\n",
        "print(analysis)\n"
      ]
    },
    {
      "cell_type": "markdown",
      "metadata": {
        "id": "d4Sg-yu0sS4t"
      },
      "source": [
        "Now we need to convert the board representation to something meaningful.\n",
        "A 3d matrix of sizes **8 x 8 x 14** where 8x8 repersents the board and the 14 represents the 7 different pieces"
      ]
    },
    {
      "cell_type": "code",
      "execution_count": null,
      "metadata": {
        "id": "Rdo64dA7dhBE"
      },
      "outputs": [],
      "source": [
        "squares_index = {\n",
        "  'a': 0,\n",
        "  'b': 1,\n",
        "  'c': 2,\n",
        "  'd': 3,\n",
        "  'e': 4,\n",
        "  'f': 5,\n",
        "  'g': 6,\n",
        "  'h': 7\n",
        "}\n",
        "\n",
        "\n",
        "# example: h3 -> 17\n",
        "def square_to_index(square):\n",
        "  letter = chess.square_name(square)\n",
        "  return 8 - int(letter[1]), squares_index[letter[0]]\n",
        "\n",
        "\n",
        "def split_dims(board):\n",
        "  # this is the 3d matrix\n",
        "  board3d = np.zeros((14, 8, 8), dtype=np.int8)\n",
        "\n",
        "  # here we add the pieces's view on the matrix\n",
        "  for piece in chess.PIECE_TYPES:\n",
        "    for square in board.pieces(piece, chess.WHITE):\n",
        "      idx = np.unravel_index(square, (8, 8))\n",
        "      board3d[piece - 1][7 - idx[0]][idx[1]] = 1\n",
        "    for square in board.pieces(piece, chess.BLACK):\n",
        "      idx = np.unravel_index(square, (8, 8))\n",
        "      board3d[piece + 5][7 - idx[0]][idx[1]] = 1\n",
        "\n",
        "  # add attacks and valid moves too\n",
        "  # so the network knows what is being attacked\n",
        "  aux = board.turn\n",
        "  board.turn = chess.WHITE\n",
        "  for move in board.legal_moves:\n",
        "      i, j = square_to_index(move.to_square)\n",
        "      board3d[12][i][j] = 1\n",
        "  board.turn = chess.BLACK\n",
        "  for move in board.legal_moves:\n",
        "      i, j = square_to_index(move.to_square)\n",
        "      board3d[13][i][j] = 1\n",
        "  board.turn = aux\n",
        "\n",
        "  return board3d"
      ]
    },
    {
      "cell_type": "code",
      "execution_count": null,
      "metadata": {
        "id": "gHONl_M1hG9i"
      },
      "outputs": [],
      "source": [
        "split_dims(board)"
      ]
    },
    {
      "cell_type": "markdown",
      "metadata": {
        "id": "OwpzPcsXfuVw"
      },
      "source": [
        "Now, all we have to do is call **random_board()** to create random boards, **stockfish()** to get a score for how good each board is for white.\n",
        "\n",
        "Then we convert each board to a 3d matrix using **split_dims()**, now creating the dataset is easy!"
      ]
    },
    {
      "cell_type": "code",
      "source": [
        "import chess.engine\n",
        "\n",
        "# Replace '/usr/games/stockfish' with the actual path\n",
        "stockfish_path = '/path/to/stockfish'\n",
        "\n",
        "with chess.engine.SimpleEngine.popen_uci('/path/to/stockfish') as engine:\n",
        "    board = chess.Board()\n",
        "    info = engine.analyse(board, chess.engine.Limit(time=0.1))\n",
        "    print(\"Recommended move:\", info[\"pv\"][0])\n"
      ],
      "metadata": {
        "id": "LkmVsL_Qt5VP"
      },
      "execution_count": null,
      "outputs": []
    },
    {
      "cell_type": "markdown",
      "metadata": {
        "id": "ukmA7z-dlB6m"
      },
      "source": [
        "# COOKING TIME"
      ]
    },
    {
      "cell_type": "code",
      "execution_count": null,
      "metadata": {
        "id": "6S7QNZqwmBOP"
      },
      "outputs": [],
      "source": [
        "import tensorflow.keras.models as models\n",
        "import tensorflow.keras.layers as layers\n",
        "import tensorflow.keras.utils as utils\n",
        "import tensorflow.keras.optimizers as optimizers\n",
        "\n",
        "\n",
        "def build_model(conv_size, conv_depth):\n",
        "  board3d = layers.Input(shape=(14, 8, 8))\n",
        "\n",
        "  # adding the convolutional layers\n",
        "  x = board3d\n",
        "  for _ in range(conv_depth):\n",
        "    x = layers.Conv2D(filters=conv_size, kernel_size=3, padding='same', activation='relu')(x)\n",
        "  x = layers.Flatten()(x)\n",
        "  x = layers.Dense(64, 'relu')(x)\n",
        "  x = layers.Dense(1, 'sigmoid')(x)\n",
        "\n",
        "  return models.Model(inputs=board3d, outputs=x)"
      ]
    },
    {
      "cell_type": "markdown",
      "metadata": {
        "id": "6S1RCn3xn4Bu"
      },
      "source": [
        "Skip connections (residual network) will likely improve the model for deeper connections. If you want to test the residual model, check the code below."
      ]
    },
    {
      "cell_type": "code",
      "execution_count": null,
      "metadata": {
        "id": "tAFSOFc8pJf8"
      },
      "outputs": [],
      "source": [
        "def build_model_residual(conv_size, conv_depth):\n",
        "  board3d = layers.Input(shape=(14, 8, 8))\n",
        "\n",
        "  # adding the convolutional layers\n",
        "  x = layers.Conv2D(filters=conv_size, kernel_size=3, padding='same')(board3d)\n",
        "  for _ in range(conv_depth):\n",
        "    previous = x\n",
        "    x = layers.Conv2D(filters=conv_size, kernel_size=3, padding='same')(x)\n",
        "    x = layers.BatchNormalization()(x)\n",
        "    x = layers.Activation('relu')(x)\n",
        "    x = layers.Conv2D(filters=conv_size, kernel_size=3, padding='same')(x)\n",
        "    x = layers.BatchNormalization()(x)\n",
        "    x = layers.Add()([x, previous])\n",
        "    x = layers.Activation('relu')(x)\n",
        "  x = layers.Flatten()(x)\n",
        "  x = layers.Dense(1, 'sigmoid')(x)\n",
        "\n",
        "  return models.Model(inputs=board3d, outputs=x)"
      ]
    },
    {
      "cell_type": "code",
      "execution_count": null,
      "metadata": {
        "id": "3IjDiS3Bmo5m"
      },
      "outputs": [],
      "source": [
        "model = build_model(32, 4)"
      ]
    },
    {
      "cell_type": "code",
      "source": [
        "with chess.engine.SimpleEngine.popen_uci('/usr/games/stockfish') as engine:\n"
      ],
      "metadata": {
        "id": "8o8HYwgXto87"
      },
      "execution_count": null,
      "outputs": []
    },
    {
      "cell_type": "code",
      "source": [
        "def generate_dataset(num_samples=1000, max_depth=200):\n",
        "    boards = []\n",
        "    scores = []\n",
        "\n",
        "    for _ in tqdm(range(num_samples), desc=\"Generating Dataset\"):\n",
        "        board = random_board(max_depth)\n",
        "        score = stockfish(board, 10)\n",
        "\n",
        "\n",
        "        if score is not None:\n",
        "            boards.append(split_dims(board))\n",
        "            scores.append(score)\n",
        "\n",
        "    return np.array(boards), np.array(scores)\n",
        "\n",
        "def save_dataset(x, y, filename='dataset.npz'):\n",
        "    np.savez(filename, b=x, v=y)\n",
        "\n",
        "x_train, y_train = generate_dataset(num_samples=1000)\n",
        "save_dataset(x_train, y_train)\n"
      ],
      "metadata": {
        "id": "hWLSvNcj-2yf"
      },
      "execution_count": null,
      "outputs": []
    },
    {
      "cell_type": "code",
      "source": [
        "import os\n",
        "\n",
        "current_directory = os.getcwd()\n",
        "print(\"Current Working Directory:\", current_directory)"
      ],
      "metadata": {
        "id": "xjAszKzzCSQO"
      },
      "execution_count": null,
      "outputs": []
    },
    {
      "cell_type": "code",
      "execution_count": null,
      "metadata": {
        "cellView": "both",
        "id": "CkOXxmoVyHdc"
      },
      "outputs": [],
      "source": [
        "import tensorflow.keras.callbacks as callbacks\n",
        "\n",
        "def get_dataset():\n",
        "    try:\n",
        "        container = np.load('dataset.npz', allow_pickle=True)\n",
        "        if 'b' in container and 'v' in container:\n",
        "            b, v = container['b'], container['v']\n",
        "            if b is not None and v is not None:\n",
        "                v = np.asarray(v / abs(v).max() / 2 + 0.5, dtype=np.float32)  # normalization (0 - 1)\n",
        "                return b, v\n",
        "    except Exception as e:\n",
        "        print(\"Error loading the dataset:\", str(e))\n",
        "    return None, None\n",
        "\n",
        "\n",
        "x_train, y_train = get_dataset()\n",
        "x_train.transpose()\n",
        "print(x_train.shape)\n",
        "print(y_train.shape)"
      ]
    },
    {
      "cell_type": "code",
      "execution_count": null,
      "metadata": {
        "id": "RyOYq9mv2ppC"
      },
      "outputs": [],
      "source": [
        "from tensorflow.keras.callbacks import ModelCheckpoint\n",
        "model.compile(optimizer=optimizers.Adam(5e-4), loss='mean_squared_error')\n",
        "model.summary()\n",
        "checkpoint_filepath = '/tmp/checkpoint/'\n",
        "model_checkpointing_callback = ModelCheckpoint(\n",
        "    filepath = checkpoint_filepath,\n",
        "    save_best_only= True,\n",
        ")\n",
        "model.fit(x_train, y_train,\n",
        "          batch_size=2048,\n",
        "          epochs=1000,\n",
        "          verbose=1,\n",
        "          validation_split=0.1,\n",
        "          callbacks=[callbacks.ReduceLROnPlateau(monitor='loss', patience=10),\n",
        "                     callbacks.EarlyStopping(monitor='loss', patience=15, min_delta=1e-4),model_checkpointing_callback])\n",
        "\n",
        "model.save('model.h5')"
      ]
    },
    {
      "cell_type": "markdown",
      "metadata": {
        "id": "UndQQeUurAKp"
      },
      "source": [
        "# FOLLOWINFG SHIT DOES NOT FUCKING WORKKKKK"
      ]
    },
    {
      "cell_type": "code",
      "execution_count": null,
      "metadata": {
        "id": "Y0a8JbSakrRs"
      },
      "outputs": [],
      "source": [
        "from tensorflow.keras import models\n",
        "model = models.load_model('model.h5')"
      ]
    },
    {
      "cell_type": "code",
      "execution_count": null,
      "metadata": {
        "id": "e4CfjcGorHzg"
      },
      "outputs": [],
      "source": [
        "# used for the minimax algorithm\n",
        "def minimax_eval(board):\n",
        "  board3d = split_dims(board)\n",
        "  board3d = numpy.expand_dims(board3d, 0)\n",
        "  return model(board3d)[0][0]\n",
        "\n",
        "\n",
        "def minimax(board, depth, alpha, beta, maximizing_player):\n",
        "  if depth == 0 or board.is_game_over():\n",
        "    return minimax_eval(board)\n",
        "\n",
        "  if maximizing_player:\n",
        "    max_eval = -numpy.inf\n",
        "    for move in board.legal_moves:\n",
        "      board.push(move)\n",
        "      eval = minimax(board, depth - 1, alpha, beta, False)\n",
        "      board.pop()\n",
        "      max_eval = max(max_eval, eval)\n",
        "      alpha = max(alpha, eval)\n",
        "      if beta <= alpha:\n",
        "        break\n",
        "    return max_eval\n",
        "  else:\n",
        "    min_eval = numpy.inf\n",
        "    for move in board.legal_moves:\n",
        "      board.push(move)\n",
        "      eval = minimax(board, depth - 1, alpha, beta, True)\n",
        "      board.pop()\n",
        "      min_eval = min(min_eval, eval)\n",
        "      beta = min(beta, eval)\n",
        "      if beta <= alpha:\n",
        "        break\n",
        "    return min_eval\n",
        "\n",
        "\n",
        "# this is the actual function that gets the move from the neural network\n",
        "def get_ai_move(board, depth):\n",
        "  max_move = None\n",
        "  max_eval = -numpy.inf\n",
        "\n",
        "  for move in board.legal_moves:\n",
        "    board.push(move)\n",
        "    eval = minimax(board, depth - 1, -numpy.inf, numpy.inf, False)\n",
        "    board.pop()\n",
        "    if eval > max_eval:\n",
        "      max_eval = eval\n",
        "      max_move = move\n",
        "\n",
        "  return max_move"
      ]
    },
    {
      "cell_type": "code",
      "execution_count": null,
      "metadata": {
        "id": "C63ND0E_uffp"
      },
      "outputs": [],
      "source": [
        "# Move by move testing code AI(white) vs Stockfish(black)\n",
        "board = chess.Board()\n",
        "\n",
        "with chess.engine.SimpleEngine.popen_uci('/usr/games/stockfish') as engine:\n",
        "    while True:\n",
        "        move = get_ai_move(board, 1)\n",
        "        board.push(move)\n",
        "        print(f'\\n{board}')\n",
        "        if board.is_game_over():\n",
        "            print('game_over')\n",
        "            break\n",
        "        move = engine.analyse(board, chess.engine.Limit(time=1), info=chess.engine.INFO_PV)['pv'][0]\n",
        "        board.push(move)\n",
        "        print(f'\\n{board}')\n",
        "        if board.is_game_over():\n",
        "            print('game_over')\n",
        "            break"
      ]
    },
    {
      "cell_type": "code",
      "execution_count": null,
      "metadata": {
        "id": "HEGkn_IDkrRu"
      },
      "outputs": [],
      "source": [
        "# Move by move testing code AI(white) vs User\n",
        "board = chess.Board()\n",
        "from IPython.display import clear_output\n",
        "\n",
        "def visualize_board(board):\n",
        "    html = \"<table border='1'>\"\n",
        "    for rank in range(8, 0, -1):\n",
        "        html += \"<tr>\"\n",
        "        for file in range(1, 9):\n",
        "            square = chess.square(file, rank)\n",
        "            piece = board.piece_at(square)\n",
        "            if piece is None:\n",
        "                html += \"<td></td>\"\n",
        "            else:\n",
        "                html += f\"<td>{chess.piece_symbol(piece)}</td>\"\n",
        "        html += \"</tr>\"\n",
        "    html += \"</table>\"\n",
        "    display(HTML(html))\n",
        "\n",
        "with chess.engine.SimpleEngine.popen_uci('/usr/games/stockfish') as engine:\n",
        "    while True:\n",
        "        clear_output(wait=True)\n",
        "        move = get_ai_move(board, 1)\n",
        "        board.push(move)\n",
        "        print(move)\n",
        "        print(f'\\n{board}')\n",
        "        if board.is_game_over():\n",
        "            print('game_over')\n",
        "            break\n",
        "        input_var = input()\n",
        "        move = chess.Move.from_uci(input_var)\n",
        "        board.push(move)\n",
        "        print(move)\n",
        "        print(f'\\n{board}')\n",
        "        if board.is_game_over():\n",
        "            print('game_over')\n",
        "            break"
      ]
    },
    {
      "cell_type": "code",
      "source": [
        "import chess\n",
        "import chess.svg\n",
        "from IPython.display import display, HTML, SVG, clear_output\n",
        "\n",
        "def visualize_board(board):\n",
        "    return chess.svg.board(board=board)\n",
        "\n",
        "board = chess.Board()\n",
        "\n",
        "with chess.engine.SimpleEngine.popen_uci('/usr/games/stockfish') as engine:\n",
        "    while True:\n",
        "        clear_output(wait=True)\n",
        "\n",
        "\n",
        "        move = get_ai_move(board, 1)  # You should define the get_ai_move function\n",
        "        board.push(move)\n",
        "        print(move)\n",
        "        print(f'\\n{board}')\n",
        "        display(SVG(visualize_board(board)))\n",
        "        if board.is_game_over():\n",
        "            print('game_over')\n",
        "            break\n",
        "\n",
        "        input_var = input()\n",
        "        move = chess.Move.from_uci(input_var)\n",
        "        board.push(move)\n",
        "        print(move)\n",
        "        print(f'\\n{board}')\n",
        "        display(SVG(visualize_board(board)))\n",
        "\n",
        "        if board.is_game_over():\n",
        "            print('game_over')\n",
        "            break\n"
      ],
      "metadata": {
        "id": "42WHpEJGH2HE"
      },
      "execution_count": null,
      "outputs": []
    },
    {
      "cell_type": "code",
      "source": [],
      "metadata": {
        "id": "9wygOjJKLE1U"
      },
      "execution_count": null,
      "outputs": []
    }
  ],
  "metadata": {
    "accelerator": "GPU",
    "colab": {
      "private_outputs": true,
      "provenance": [],
      "include_colab_link": true
    },
    "interpreter": {
      "hash": "aee8b7b246df8f9039afb4144a1f6fd8d2ca17a180786b69acc140d282b71a49"
    },
    "kernelspec": {
      "display_name": "Python 3 (ipykernel)",
      "language": "python",
      "name": "python3"
    },
    "language_info": {
      "codemirror_mode": {
        "name": "ipython",
        "version": 3
      },
      "file_extension": ".py",
      "mimetype": "text/x-python",
      "name": "python",
      "nbconvert_exporter": "python",
      "pygments_lexer": "ipython3",
      "version": "3.8.0"
    }
  },
  "nbformat": 4,
  "nbformat_minor": 0
}